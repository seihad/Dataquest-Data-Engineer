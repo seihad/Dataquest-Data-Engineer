{
 "cells": [
  {
   "cell_type": "markdown",
   "source": [
    "# Evaluating Numerical Expressions"
   ],
   "metadata": {}
  },
  {
   "cell_type": "markdown",
   "source": [
    "the goal of this project is to use stack data structure to implement an algorithm that can evaluate complex numerical expression"
   ],
   "metadata": {}
  },
  {
   "cell_type": "markdown",
   "source": [
    "# Introduction"
   ],
   "metadata": {}
  },
  {
   "cell_type": "markdown",
   "source": [
    "importing linked_list and stack implementation"
   ],
   "metadata": {}
  },
  {
   "cell_type": "code",
   "execution_count": 1,
   "source": [
    "import linked_list\n",
    "class Stack(linked_list.LinkedList):\n",
    "    def push(self, data):\n",
    "        self.append(data)\n",
    "    \n",
    "    def peek(self):\n",
    "        return self.tail.data\n",
    "\n",
    "    def pop(self):\n",
    "        ret = self.tail.data\n",
    "        if self.length == 1:\n",
    "            self.tail = self.head = 0\n",
    "        else:\n",
    "            self.tail = self.tail.prev\n",
    "            self.tail.next = None\n",
    "        self.length -= 1\n",
    "        return ret"
   ],
   "outputs": [],
   "metadata": {}
  },
  {
   "cell_type": "markdown",
   "source": [
    "## Infix and Postfix Notation"
   ],
   "metadata": {}
  },
  {
   "cell_type": "markdown",
   "source": [
    "defining a function tokenize(). it uses str.split() method to tokenize the expression. the function will return a list of strings with the tokens in the expression"
   ],
   "metadata": {}
  },
  {
   "cell_type": "code",
   "execution_count": 2,
   "source": [
    "def tokenize(expression):\n",
    "    return expression.split()\n",
    "\n",
    "print(tokenize(\"12 2 4 + / 21 *\"))"
   ],
   "outputs": [
    {
     "output_type": "stream",
     "name": "stdout",
     "text": [
      "['12', '2', '4', '+', '/', '21', '*']\n"
     ]
    }
   ],
   "metadata": {}
  },
  {
   "cell_type": "markdown",
   "source": [
    "## Processing an Operator"
   ],
   "metadata": {}
  },
  {
   "cell_type": "markdown",
   "source": [
    "functions for operators"
   ],
   "metadata": {}
  },
  {
   "cell_type": "code",
   "execution_count": 3,
   "source": [
    "def process_minus(stack):\n",
    "    top = stack.pop()\n",
    "    second_to_top = stack.pop()\n",
    "    result = second_to_top - top\n",
    "    stack.push(result)\n",
    "\n",
    "def process_plus(stack):\n",
    "    top = stack.pop()\n",
    "    second_to_top = stack.pop()\n",
    "    result = second_to_top + top\n",
    "    stack.push(result)\n",
    "    \n",
    "def process_times(stack):\n",
    "    top = stack.pop()\n",
    "    second_to_top = stack.pop()\n",
    "    result = second_to_top * top\n",
    "    stack.push(result)\n",
    "\n",
    "def process_divide(stack):\n",
    "    top = stack.pop()\n",
    "    second_to_top = stack.pop()\n",
    "    result = second_to_top / top\n",
    "    stack.push(result)\n",
    "\n",
    "def process_pow(stack):\n",
    "    top = stack.pop()\n",
    "    second_to_top = stack.pop()\n",
    "    result = second_to_top ** top\n",
    "    stack.push(result)\n"
   ],
   "outputs": [],
   "metadata": {}
  },
  {
   "cell_type": "markdown",
   "source": [
    "## Evaluating Postfix Expressions"
   ],
   "metadata": {}
  },
  {
   "cell_type": "markdown",
   "source": [
    "defining a function to eavluate an expression in postfix notation"
   ],
   "metadata": {}
  },
  {
   "cell_type": "code",
   "execution_count": 4,
   "source": [
    "def evaluate_postfix(expression):\n",
    "    tokens = tokenize(expression)\n",
    "    stack = Stack()\n",
    "    for token in tokens:\n",
    "        if token == \"+\":\n",
    "            process_plus(stack)\n",
    "        elif token == \"-\":\n",
    "            process_minus(stack)\n",
    "        elif token == \"*\":\n",
    "            process_times(stack)\n",
    "        elif token == \"/\":\n",
    "            process_divide(stack)\n",
    "        elif token == \"**\":\n",
    "            process_pow(stack)\n",
    "        else:\n",
    "            # The token is not an operator so it must be a number\n",
    "            stack.push(float(token))\n",
    "    return stack.pop()"
   ],
   "outputs": [],
   "metadata": {}
  },
  {
   "cell_type": "markdown",
   "source": [
    "testing the function on each expression"
   ],
   "metadata": {}
  },
  {
   "cell_type": "code",
   "execution_count": 5,
   "source": [
    "expressions = [\n",
    "    \"4 6 -\",\n",
    "    \"4 1 2 9 3 / * + 5 - *\",\n",
    "    \"1 2 + 3 -\",\n",
    "    \"1 2 - 3 +\",\n",
    "    \"10 3 5 * 16 4 - / +\",\n",
    "    \"5 3 4 2 - ** *\",\n",
    "    \"12 2 4 + / 21 *\",\n",
    "    \"1 1 + 2 **\",\n",
    "    \"1 1 2 ** +\"\n",
    "]\n",
    "\n",
    "for expression in expressions:\n",
    "    print(evaluate_postfix(expression))"
   ],
   "outputs": [
    {
     "output_type": "stream",
     "name": "stdout",
     "text": [
      "-2.0\n",
      "8.0\n",
      "0.0\n",
      "2.0\n",
      "11.25\n",
      "45.0\n",
      "42.0\n",
      "4.0\n",
      "2.0\n"
     ]
    }
   ],
   "metadata": {}
  },
  {
   "cell_type": "markdown",
   "source": [
    "## Operator Precedence in Infix Notation"
   ],
   "metadata": {}
  },
  {
   "cell_type": "markdown",
   "source": [
    "defining a dictionary named precedence"
   ],
   "metadata": {}
  },
  {
   "cell_type": "code",
   "execution_count": 6,
   "source": [
    "precedence = {\n",
    "    \"+\": 1,\n",
    "    \"-\": 1,\n",
    "    \"*\": 2,\n",
    "    \"/\": 2,\n",
    "    \"**\": 3\n",
    "}\n"
   ],
   "outputs": [],
   "metadata": {}
  },
  {
   "cell_type": "markdown",
   "source": [
    "see if precedence of / is smaller than precedence of -"
   ],
   "metadata": {}
  },
  {
   "cell_type": "code",
   "execution_count": 7,
   "source": [
    "print(precedence[\"/\"] < precedence[\"-\"])"
   ],
   "outputs": [
    {
     "output_type": "stream",
     "name": "stdout",
     "text": [
      "False\n"
     ]
    }
   ],
   "metadata": {}
  },
  {
   "cell_type": "markdown",
   "source": [
    "## From Infix to Postfix"
   ],
   "metadata": {}
  },
  {
   "cell_type": "markdown",
   "source": [
    "defining a function for opening and closing parenthesis"
   ],
   "metadata": {}
  },
  {
   "cell_type": "code",
   "execution_count": 8,
   "source": [
    "\n",
    "def process_opening_parenthesis(stack):\n",
    "    stack.push(\"(\")\n",
    "\n",
    "def process_closing_parenthesis(stack, postfix):\n",
    "    # Add tokens until we find the open bracket\n",
    "    while stack.peek() != \"(\":\n",
    "        postfix.append(stack.pop())\n",
    "    # Remove the opening bracket\n",
    "    stack.pop()"
   ],
   "outputs": [],
   "metadata": {}
  },
  {
   "cell_type": "markdown",
   "source": [
    "## Handling Operators"
   ],
   "metadata": {}
  },
  {
   "cell_type": "markdown",
   "source": [
    "defining a function for process operator"
   ],
   "metadata": {}
  },
  {
   "cell_type": "code",
   "execution_count": 11,
   "source": [
    "def process_operator(stack, postfix, operator):\n",
    "    while len(stack) > 0 and stack.peek() in precedence and precedence[stack.peek()] >= precedence[operator]:\n",
    "        postfix.append(stack.pop())\n",
    "    stack.push(operator)"
   ],
   "outputs": [],
   "metadata": {}
  },
  {
   "cell_type": "markdown",
   "source": [
    "## Handling Numbers"
   ],
   "metadata": {}
  },
  {
   "cell_type": "markdown",
   "source": [
    "defining a funtion for process number"
   ],
   "metadata": {}
  },
  {
   "cell_type": "code",
   "execution_count": 10,
   "source": [
    "def process_number(postfix, number):\n",
    "    postfix.append(number)"
   ],
   "outputs": [],
   "metadata": {}
  },
  {
   "cell_type": "markdown",
   "source": [
    "## Implementing the Shunting-yard Algorithm"
   ],
   "metadata": {}
  },
  {
   "cell_type": "markdown",
   "source": [
    "defining the function for infix_to_postfix"
   ],
   "metadata": {}
  },
  {
   "cell_type": "code",
   "execution_count": 18,
   "source": [
    "def infix_to_postfix(expression):\n",
    "    tokens = tokenize(expression)\n",
    "    stack = Stack()\n",
    "    postfix = []\n",
    "    for token in tokens:\n",
    "        if token == \"(\":\n",
    "            process_opening_parenthesis(stack)\n",
    "        elif token == \")\":\n",
    "            process_closing_parenthesis(stack, postfix)\n",
    "        elif token in precedence:\n",
    "            process_operator(stack, postfix, token)\n",
    "        else:\n",
    "            process_number(postfix, token)\n",
    "    while len(stack) > 0:\n",
    "        postfix.append(stack.pop())\n",
    "    return \" \".join(postfix)"
   ],
   "outputs": [],
   "metadata": {}
  },
  {
   "cell_type": "markdown",
   "source": [
    "## Evaluating Infix expressions"
   ],
   "metadata": {}
  },
  {
   "cell_type": "markdown",
   "source": [
    "writing a function to returns the value of an expression in infix notation"
   ],
   "metadata": {}
  },
  {
   "cell_type": "code",
   "execution_count": 19,
   "source": [
    "def evaluate(expression):\n",
    "    postfix_expression = infix_to_postfix(expression)\n",
    "    return evaluate_postfix(postfix_expression)\n",
    "\n",
    "expressions = [\n",
    "    \"1 + 1\",\n",
    "    \"1 * ( 2 - ( 1 + 1 ) )\",\n",
    "    \"4 * ( 1 + 2 * ( 9 / 3 ) - 5 )\",\n",
    "    \"10 + 3 * 5 / ( 16 - 4 * 1 )\",\n",
    "    \"2 * 2 * 2 * 2 * 2 * 2 * 2 * 2\",\n",
    "    \"2 ** 2 ** 2 ** 2 ** 2\",\n",
    "    \"( 1 - 2 ) / ( 3 - 5 )\",\n",
    "    \"9 / 8 * 8\",\n",
    "    \"64 / ( 8 * 8 )\",\n",
    "]\n",
    "\n",
    "for expression in expressions:\n",
    "    print(evaluate(expression))"
   ],
   "outputs": [
    {
     "output_type": "stream",
     "name": "stdout",
     "text": [
      "2.0\n",
      "0.0\n",
      "8.0\n",
      "11.25\n",
      "256.0\n",
      "65536.0\n",
      "0.5\n",
      "9.0\n",
      "1.0\n"
     ]
    }
   ],
   "metadata": {}
  }
 ],
 "metadata": {
  "orig_nbformat": 4,
  "language_info": {
   "name": "python",
   "version": "3.9.2",
   "mimetype": "text/x-python",
   "codemirror_mode": {
    "name": "ipython",
    "version": 3
   },
   "pygments_lexer": "ipython3",
   "nbconvert_exporter": "python",
   "file_extension": ".py"
  },
  "kernelspec": {
   "name": "python3",
   "display_name": "Python 3.9.2 64-bit"
  },
  "interpreter": {
   "hash": "aee8b7b246df8f9039afb4144a1f6fd8d2ca17a180786b69acc140d282b71a49"
  }
 },
 "nbformat": 4,
 "nbformat_minor": 2
}