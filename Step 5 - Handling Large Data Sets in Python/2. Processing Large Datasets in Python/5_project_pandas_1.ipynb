{
 "cells": [
  {
   "cell_type": "markdown",
   "source": [
    "#  Practice Optimizing Dataframes and Processing in Chunks"
   ],
   "metadata": {}
  },
  {
   "cell_type": "markdown",
   "source": [
    "In this project we will work with chunked dataframe and optimize its memory usage. Financial lending data from Lending Club, which is a marketplace for personal loans that matches borrowers with investors, is used for this project.\n"
   ],
   "metadata": {}
  },
  {
   "cell_type": "markdown",
   "source": [
    "## 1. Introduction"
   ],
   "metadata": {}
  },
  {
   "cell_type": "markdown",
   "source": [
    "reading the first five lines from loan_2007.csv"
   ],
   "metadata": {}
  },
  {
   "cell_type": "code",
   "execution_count": 8,
   "source": [
    "import pandas as pd\n",
    "import numpy as np\n",
    "pd.options.display.max_columns = 99\n",
    "first_five = pd.read_csv(\"loans_2007.csv\",nrows=5)\n",
    "print(first_five)\n"
   ],
   "outputs": [
    {
     "output_type": "stream",
     "name": "stdout",
     "text": [
      "        id  member_id  loan_amnt  funded_amnt  funded_amnt_inv        term  \\\n",
      "0  1077501  1296599.0     5000.0       5000.0           4975.0   36 months   \n",
      "1  1077430  1314167.0     2500.0       2500.0           2500.0   60 months   \n",
      "2  1077175  1313524.0     2400.0       2400.0           2400.0   36 months   \n",
      "3  1076863  1277178.0    10000.0      10000.0          10000.0   36 months   \n",
      "4  1075358  1311748.0     3000.0       3000.0           3000.0   60 months   \n",
      "\n",
      "  int_rate  installment grade sub_grade                 emp_title emp_length  \\\n",
      "0   10.65%       162.87     B        B2                       NaN  10+ years   \n",
      "1   15.27%        59.83     C        C4                     Ryder   < 1 year   \n",
      "2   15.96%        84.33     C        C5                       NaN  10+ years   \n",
      "3   13.49%       339.31     C        C1       AIR RESOURCES BOARD  10+ years   \n",
      "4   12.69%        67.79     B        B5  University Medical Group     1 year   \n",
      "\n",
      "  home_ownership  annual_inc verification_status   issue_d  loan_status  \\\n",
      "0           RENT     24000.0            Verified  Dec-2011   Fully Paid   \n",
      "1           RENT     30000.0     Source Verified  Dec-2011  Charged Off   \n",
      "2           RENT     12252.0        Not Verified  Dec-2011   Fully Paid   \n",
      "3           RENT     49200.0     Source Verified  Dec-2011   Fully Paid   \n",
      "4           RENT     80000.0     Source Verified  Dec-2011      Current   \n",
      "\n",
      "  pymnt_plan         purpose                 title zip_code addr_state    dti  \\\n",
      "0          n     credit_card              Computer    860xx         AZ  27.65   \n",
      "1          n             car                  bike    309xx         GA   1.00   \n",
      "2          n  small_business  real estate business    606xx         IL   8.72   \n",
      "3          n           other              personel    917xx         CA  20.00   \n",
      "4          n           other              Personal    972xx         OR  17.94   \n",
      "\n",
      "   delinq_2yrs earliest_cr_line  inq_last_6mths  open_acc  pub_rec  revol_bal  \\\n",
      "0          0.0         Jan-1985             1.0       3.0      0.0    13648.0   \n",
      "1          0.0         Apr-1999             5.0       3.0      0.0     1687.0   \n",
      "2          0.0         Nov-2001             2.0       2.0      0.0     2956.0   \n",
      "3          0.0         Feb-1996             1.0      10.0      0.0     5598.0   \n",
      "4          0.0         Jan-1996             0.0      15.0      0.0    27783.0   \n",
      "\n",
      "  revol_util  total_acc initial_list_status  out_prncp  out_prncp_inv  \\\n",
      "0      83.7%        9.0                   f       0.00           0.00   \n",
      "1       9.4%        4.0                   f       0.00           0.00   \n",
      "2      98.5%       10.0                   f       0.00           0.00   \n",
      "3        21%       37.0                   f       0.00           0.00   \n",
      "4      53.9%       38.0                   f     461.73         461.73   \n",
      "\n",
      "    total_pymnt  total_pymnt_inv  total_rec_prncp  total_rec_int  \\\n",
      "0   5863.155187          5833.84          5000.00         863.16   \n",
      "1   1008.710000          1008.71           456.46         435.17   \n",
      "2   3005.666844          3005.67          2400.00         605.67   \n",
      "3  12231.890000         12231.89         10000.00        2214.92   \n",
      "4   3581.120000          3581.12          2538.27        1042.85   \n",
      "\n",
      "   total_rec_late_fee  recoveries  collection_recovery_fee last_pymnt_d  \\\n",
      "0                0.00        0.00                     0.00     Jan-2015   \n",
      "1                0.00      117.08                     1.11     Apr-2013   \n",
      "2                0.00        0.00                     0.00     Jun-2014   \n",
      "3               16.97        0.00                     0.00     Jan-2015   \n",
      "4                0.00        0.00                     0.00     Jun-2016   \n",
      "\n",
      "   last_pymnt_amnt last_credit_pull_d  collections_12_mths_ex_med  \\\n",
      "0           171.62           Jun-2016                         0.0   \n",
      "1           119.66           Sep-2013                         0.0   \n",
      "2           649.91           Jun-2016                         0.0   \n",
      "3           357.48           Apr-2016                         0.0   \n",
      "4            67.79           Jun-2016                         0.0   \n",
      "\n",
      "   policy_code application_type  acc_now_delinq  chargeoff_within_12_mths  \\\n",
      "0          1.0       INDIVIDUAL             0.0                       0.0   \n",
      "1          1.0       INDIVIDUAL             0.0                       0.0   \n",
      "2          1.0       INDIVIDUAL             0.0                       0.0   \n",
      "3          1.0       INDIVIDUAL             0.0                       0.0   \n",
      "4          1.0       INDIVIDUAL             0.0                       0.0   \n",
      "\n",
      "   delinq_amnt  pub_rec_bankruptcies  tax_liens  \n",
      "0          0.0                   0.0        0.0  \n",
      "1          0.0                   0.0        0.0  \n",
      "2          0.0                   0.0        0.0  \n",
      "3          0.0                   0.0        0.0  \n",
      "4          0.0                   0.0        0.0  \n"
     ]
    }
   ],
   "metadata": {}
  },
  {
   "cell_type": "markdown",
   "source": [
    "read in first 1000 rows from the data set, and calculate the total memory usage of the rows"
   ],
   "metadata": {}
  },
  {
   "cell_type": "code",
   "execution_count": 5,
   "source": [
    "thousand_chunk = pd.read_csv('loans_2007.csv', nrows=1000)\n",
    "thousand_chunk_mem = thousand_chunk.memory_usage(deep=True).sum()/ (1024 * 1024)\n",
    "print(thousand_chunk_mem)\n"
   ],
   "outputs": [
    {
     "output_type": "stream",
     "name": "stdout",
     "text": [
      "1.5273666381835938\n"
     ]
    }
   ],
   "metadata": {}
  },
  {
   "cell_type": "markdown",
   "source": [
    "## 2. Exploring the Data in Chunks"
   ],
   "metadata": {}
  },
  {
   "cell_type": "markdown",
   "source": [
    "Getting the numeric and string type in each columns"
   ],
   "metadata": {}
  },
  {
   "cell_type": "code",
   "execution_count": 9,
   "source": [
    "loans_chunks = pd.read_csv('loans_2007.csv',chunksize=3000)\n",
    "\n",
    "numeric = []\n",
    "string = []\n",
    "for lc in loans_chunks:\n",
    "    nums = lc.select_dtypes(include=[np.number]).shape[1]\n",
    "    numeric.append(nums)\n",
    "    strs = lc.select_dtypes(include=['object']).shape[1]\n",
    "    string.append(strs)\n",
    "\n",
    "print(numeric)\n",
    "print(string)"
   ],
   "outputs": [
    {
     "output_type": "stream",
     "name": "stdout",
     "text": [
      "[31, 31, 31, 31, 31, 31, 31, 31, 31, 31, 31, 31, 31, 30, 30]\n",
      "[21, 21, 21, 21, 21, 21, 21, 21, 21, 21, 21, 21, 21, 22, 22]\n"
     ]
    }
   ],
   "metadata": {}
  },
  {
   "cell_type": "markdown",
   "source": [
    "exploring the float columns have no missing values and could be candidates for conversion to the integer type"
   ],
   "metadata": {}
  },
  {
   "cell_type": "code",
   "execution_count": 11,
   "source": [
    "loans_chunks = pd.read_csv('loans_2007.csv',chunksize=3000)\n",
    "\n",
    "missing = []\n",
    "for lc in loans_chunks:\n",
    "    floats = lc.select_dtypes(include=['float'])\n",
    "    missing.append(floats.apply(pd.isnull).sum())\n",
    "\n",
    "combined_missing = pd.concat(missing)\n",
    "combined_missing.groupby(combined_missing.index).sum().sort_values()"
   ],
   "outputs": [
    {
     "output_type": "execute_result",
     "data": {
      "text/plain": [
       "member_id                        3\n",
       "total_rec_int                    3\n",
       "total_pymnt_inv                  3\n",
       "total_pymnt                      3\n",
       "revol_bal                        3\n",
       "recoveries                       3\n",
       "policy_code                      3\n",
       "out_prncp_inv                    3\n",
       "out_prncp                        3\n",
       "total_rec_late_fee               3\n",
       "loan_amnt                        3\n",
       "last_pymnt_amnt                  3\n",
       "total_rec_prncp                  3\n",
       "funded_amnt_inv                  3\n",
       "funded_amnt                      3\n",
       "dti                              3\n",
       "collection_recovery_fee          3\n",
       "installment                      3\n",
       "annual_inc                       7\n",
       "inq_last_6mths                  32\n",
       "total_acc                       32\n",
       "delinq_2yrs                     32\n",
       "pub_rec                         32\n",
       "delinq_amnt                     32\n",
       "open_acc                        32\n",
       "acc_now_delinq                  32\n",
       "tax_liens                      108\n",
       "collections_12_mths_ex_med     148\n",
       "chargeoff_within_12_mths       148\n",
       "pub_rec_bankruptcies          1368\n",
       "dtype: int64"
      ]
     },
     "metadata": {},
     "execution_count": 11
    }
   ],
   "metadata": {}
  },
  {
   "cell_type": "markdown",
   "source": [
    "calculating the total memory usage across all of the chunks"
   ],
   "metadata": {}
  },
  {
   "cell_type": "code",
   "execution_count": 12,
   "source": [
    "loans_chunks = pd.read_csv('loans_2007.csv',chunksize=3000)\n",
    "\n",
    "mem_usage = []\n",
    "\n",
    "for lc in loans_chunks:\n",
    "    mem_usage.append(lc.memory_usage(deep=True).sum() / 1024 ** 2)\n",
    "\n",
    "sum(mem_usage)"
   ],
   "outputs": [
    {
     "output_type": "execute_result",
     "data": {
      "text/plain": [
       "65.24251079559326"
      ]
     },
     "metadata": {},
     "execution_count": 12
    }
   ],
   "metadata": {}
  },
  {
   "cell_type": "markdown",
   "source": [
    "## 3. Optimizing the String Column"
   ],
   "metadata": {}
  },
  {
   "cell_type": "markdown",
   "source": [
    "determining which sting columns to conver to a numeric type"
   ],
   "metadata": {}
  },
  {
   "cell_type": "code",
   "execution_count": 14,
   "source": [
    "chunk_iter = pd.read_csv('loans_2007.csv', chunksize=3000)\n",
    "str_cols_vc = {}\n",
    "for chunk in chunk_iter:\n",
    "    str_cols = chunk.select_dtypes(include=['object'])\n",
    "    for col in str_cols.columns:\n",
    "        current_col_vc = str_cols[col].value_counts()\n",
    "        if col in str_cols_vc:\n",
    "            str_cols_vc[col].append(current_col_vc)\n",
    "        else:\n",
    "            str_cols_vc[col] = [current_col_vc]"
   ],
   "outputs": [
    {
     "output_type": "stream",
     "name": "stdout",
     "text": [
      "                                                    id        term int_rate  \\\n",
      "42000                                           247286   36 months   11.34%   \n",
      "42001                                           246996   36 months   17.66%   \n",
      "42002                                           246720   36 months   15.13%   \n",
      "42003                                           246535   36 months   18.29%   \n",
      "42004                                           246197   36 months   10.08%   \n",
      "...                                                ...         ...      ...   \n",
      "42533                                            72176   36 months    9.33%   \n",
      "42534                                            71623   36 months    8.38%   \n",
      "42535                                            70686   36 months    7.75%   \n",
      "42536  Total amount funded in policy code 1: 471701350         NaN      NaN   \n",
      "42537          Total amount funded in policy code 2: 0         NaN      NaN   \n",
      "\n",
      "      grade sub_grade           emp_title emp_length home_ownership  \\\n",
      "42000     C        C2            Best Buy    3 years           RENT   \n",
      "42001     G        G2        CVS PHARMACY    2 years            OWN   \n",
      "42002     E        E4      General Motors    7 years           RENT   \n",
      "42003     G        G4  usa medical center    6 years           RENT   \n",
      "42004     B        B3    InvestSource Inc    4 years           RENT   \n",
      "...     ...       ...                 ...        ...            ...   \n",
      "42533     B        B3                 NaN   < 1 year           RENT   \n",
      "42534     A        A5                 NaN   < 1 year           NONE   \n",
      "42535     A        A3           Homemaker  10+ years       MORTGAGE   \n",
      "42536   NaN       NaN                 NaN        NaN            NaN   \n",
      "42537   NaN       NaN                 NaN        NaN            NaN   \n",
      "\n",
      "      verification_status   issue_d  \\\n",
      "42000        Not Verified  Feb-2008   \n",
      "42001        Not Verified  Feb-2008   \n",
      "42002        Not Verified  Feb-2008   \n",
      "42003        Not Verified  Feb-2008   \n",
      "42004        Not Verified  Feb-2008   \n",
      "...                   ...       ...   \n",
      "42533        Not Verified  Jun-2007   \n",
      "42534        Not Verified  Jun-2007   \n",
      "42535        Not Verified  Jun-2007   \n",
      "42536                 NaN       NaN   \n",
      "42537                 NaN       NaN   \n",
      "\n",
      "                                             loan_status pymnt_plan  \\\n",
      "42000  Does not meet the credit policy. Status:Fully ...          n   \n",
      "42001  Does not meet the credit policy. Status:Charge...          n   \n",
      "42002  Does not meet the credit policy. Status:Fully ...          n   \n",
      "42003  Does not meet the credit policy. Status:Fully ...          n   \n",
      "42004  Does not meet the credit policy. Status:Charge...          n   \n",
      "...                                                  ...        ...   \n",
      "42533  Does not meet the credit policy. Status:Fully ...          n   \n",
      "42534  Does not meet the credit policy. Status:Fully ...          n   \n",
      "42535  Does not meet the credit policy. Status:Fully ...          n   \n",
      "42536                                                NaN        NaN   \n",
      "42537                                                NaN        NaN   \n",
      "\n",
      "                  purpose                                title zip_code  \\\n",
      "42000  debt_consolidation                     Paying off Bills    326xx   \n",
      "42001  debt_consolidation       School expenses from residency    787xx   \n",
      "42002  debt_consolidation            Credit Card Consolidation    480xx   \n",
      "42003  debt_consolidation  want to have one bill instead of 12    366xx   \n",
      "42004  debt_consolidation         Need to pay credit card debt    928xx   \n",
      "...                   ...                                  ...      ...   \n",
      "42533               other                      Car repair bill    100xx   \n",
      "42534               other                         Buying a car    100xx   \n",
      "42535               other                       Aroundthehouse    068xx   \n",
      "42536                 NaN                                  NaN      NaN   \n",
      "42537                 NaN                                  NaN      NaN   \n",
      "\n",
      "      addr_state earliest_cr_line revol_util initial_list_status last_pymnt_d  \\\n",
      "42000         FL         Jul-2000     100.7%                   f     Feb-2011   \n",
      "42001         TX         Mar-1989      51.9%                   f     Nov-2008   \n",
      "42002         MI         Dec-1998      80.7%                   f     Feb-2011   \n",
      "42003         AL         Jul-1995      57.2%                   f     Feb-2011   \n",
      "42004         CA         Sep-2005        74%                   f     Mar-2010   \n",
      "...          ...              ...        ...                 ...          ...   \n",
      "42533         NY              NaN        NaN                   f     Jun-2010   \n",
      "42534         NY              NaN        NaN                   f     Jun-2010   \n",
      "42535         CT              NaN        NaN                   f     Jun-2010   \n",
      "42536        NaN              NaN        NaN                 NaN          NaN   \n",
      "42537        NaN              NaN        NaN                 NaN          NaN   \n",
      "\n",
      "      last_credit_pull_d application_type  \n",
      "42000           Jun-2016       INDIVIDUAL  \n",
      "42001           Jun-2016       INDIVIDUAL  \n",
      "42002           Jun-2016       INDIVIDUAL  \n",
      "42003           Jun-2011       INDIVIDUAL  \n",
      "42004           Aug-2010       INDIVIDUAL  \n",
      "...                  ...              ...  \n",
      "42533           May-2007       INDIVIDUAL  \n",
      "42534           Aug-2007       INDIVIDUAL  \n",
      "42535           Feb-2015       INDIVIDUAL  \n",
      "42536                NaN              NaN  \n",
      "42537                NaN              NaN  \n",
      "\n",
      "[538 rows x 22 columns]\n"
     ]
    }
   ],
   "metadata": {}
  },
  {
   "cell_type": "markdown",
   "source": [
    "convert to category"
   ],
   "metadata": {}
  },
  {
   "cell_type": "code",
   "execution_count": 15,
   "source": [
    "convert_col_dtypes = {\n",
    "    \"sub_grade\": \"category\", \"home_ownership\": \"category\", \n",
    "    \"verification_status\": \"category\", \"purpose\": \"category\"\n",
    "}"
   ],
   "outputs": [],
   "metadata": {}
  },
  {
   "cell_type": "code",
   "execution_count": 16,
   "source": [
    "\n",
    "chunk_iter = pd.read_csv('loans_2007.csv', chunksize=3000, dtype=convert_col_dtypes, parse_dates=[\"issue_d\", \"earliest_cr_line\", \"last_pymnt_d\", \"last_credit_pull_d\"])\n",
    "\n",
    "for chunk in chunk_iter:\n",
    "    term_cleaned = chunk['term'].str.lstrip(\" \").str.rstrip(\" months\")\n",
    "    revol_cleaned = chunk['revol_util'].str.rstrip(\"%\")\n",
    "    chunk['term'] = pd.to_numeric(term_cleaned)\n",
    "    chunk['revol_util'] = pd.to_numeric(revol_cleaned)\n",
    "    \n",
    "chunk.dtypes"
   ],
   "outputs": [
    {
     "output_type": "execute_result",
     "data": {
      "text/plain": [
       "id                                    object\n",
       "member_id                            float64\n",
       "loan_amnt                            float64\n",
       "funded_amnt                          float64\n",
       "funded_amnt_inv                      float64\n",
       "term                                 float64\n",
       "int_rate                              object\n",
       "installment                          float64\n",
       "grade                                 object\n",
       "sub_grade                           category\n",
       "emp_title                             object\n",
       "emp_length                            object\n",
       "home_ownership                      category\n",
       "annual_inc                           float64\n",
       "verification_status                 category\n",
       "issue_d                       datetime64[ns]\n",
       "loan_status                           object\n",
       "pymnt_plan                            object\n",
       "purpose                             category\n",
       "title                                 object\n",
       "zip_code                              object\n",
       "addr_state                            object\n",
       "dti                                  float64\n",
       "delinq_2yrs                          float64\n",
       "earliest_cr_line              datetime64[ns]\n",
       "inq_last_6mths                       float64\n",
       "open_acc                             float64\n",
       "pub_rec                              float64\n",
       "revol_bal                            float64\n",
       "revol_util                           float64\n",
       "total_acc                            float64\n",
       "initial_list_status                   object\n",
       "out_prncp                            float64\n",
       "out_prncp_inv                        float64\n",
       "total_pymnt                          float64\n",
       "total_pymnt_inv                      float64\n",
       "total_rec_prncp                      float64\n",
       "total_rec_int                        float64\n",
       "total_rec_late_fee                   float64\n",
       "recoveries                           float64\n",
       "collection_recovery_fee              float64\n",
       "last_pymnt_d                  datetime64[ns]\n",
       "last_pymnt_amnt                      float64\n",
       "last_credit_pull_d            datetime64[ns]\n",
       "collections_12_mths_ex_med           float64\n",
       "policy_code                          float64\n",
       "application_type                      object\n",
       "acc_now_delinq                       float64\n",
       "chargeoff_within_12_mths             float64\n",
       "delinq_amnt                          float64\n",
       "pub_rec_bankruptcies                 float64\n",
       "tax_liens                            float64\n",
       "dtype: object"
      ]
     },
     "metadata": {},
     "execution_count": 16
    }
   ],
   "metadata": {}
  },
  {
   "cell_type": "code",
   "execution_count": 17,
   "source": [
    "chunk_iter = pd.read_csv('loans_2007.csv', chunksize=3000, dtype=convert_col_dtypes, parse_dates=[\"issue_d\", \"earliest_cr_line\", \"last_pymnt_d\", \"last_credit_pull_d\"])\n",
    "mv_counts = {}\n",
    "for chunk in chunk_iter:\n",
    "    term_cleaned = chunk['term'].str.lstrip(\" \").str.rstrip(\" months\")\n",
    "    revol_cleaned = chunk['revol_util'].str.rstrip(\"%\")\n",
    "    chunk['term'] = pd.to_numeric(term_cleaned)\n",
    "    chunk['revol_util'] = pd.to_numeric(revol_cleaned)\n",
    "    float_cols = chunk.select_dtypes(include=['float'])\n",
    "    for col in float_cols.columns:\n",
    "        missing_values = len(chunk) - chunk[col].count()\n",
    "        if col in mv_counts:\n",
    "            mv_counts[col] = mv_counts[col] + missing_values\n",
    "        else:\n",
    "            mv_counts[col] = missing_values\n",
    "mv_counts"
   ],
   "outputs": [
    {
     "output_type": "execute_result",
     "data": {
      "text/plain": [
       "{'member_id': 3,\n",
       " 'loan_amnt': 3,\n",
       " 'funded_amnt': 3,\n",
       " 'funded_amnt_inv': 3,\n",
       " 'installment': 3,\n",
       " 'annual_inc': 7,\n",
       " 'dti': 3,\n",
       " 'delinq_2yrs': 32,\n",
       " 'inq_last_6mths': 32,\n",
       " 'open_acc': 32,\n",
       " 'pub_rec': 32,\n",
       " 'revol_bal': 3,\n",
       " 'revol_util': 93,\n",
       " 'total_acc': 32,\n",
       " 'out_prncp': 3,\n",
       " 'out_prncp_inv': 3,\n",
       " 'total_pymnt': 3,\n",
       " 'total_pymnt_inv': 3,\n",
       " 'total_rec_prncp': 3,\n",
       " 'total_rec_int': 3,\n",
       " 'total_rec_late_fee': 3,\n",
       " 'recoveries': 3,\n",
       " 'collection_recovery_fee': 3,\n",
       " 'last_pymnt_amnt': 3,\n",
       " 'collections_12_mths_ex_med': 148,\n",
       " 'policy_code': 3,\n",
       " 'acc_now_delinq': 32,\n",
       " 'chargeoff_within_12_mths': 148,\n",
       " 'delinq_amnt': 32,\n",
       " 'pub_rec_bankruptcies': 1368,\n",
       " 'tax_liens': 108,\n",
       " 'term': 3}"
      ]
     },
     "metadata": {},
     "execution_count": 17
    }
   ],
   "metadata": {}
  },
  {
   "cell_type": "code",
   "execution_count": 18,
   "source": [
    "chunk_iter = pd.read_csv('loans_2007.csv', chunksize=3000, dtype=convert_col_dtypes, parse_dates=[\"issue_d\", \"earliest_cr_line\", \"last_pymnt_d\", \"last_credit_pull_d\"])\n",
    "mv_counts = {}\n",
    "for chunk in chunk_iter:\n",
    "    term_cleaned = chunk['term'].str.lstrip(\" \").str.rstrip(\" months\")\n",
    "    revol_cleaned = chunk['revol_util'].str.rstrip(\"%\")\n",
    "    chunk['term'] = pd.to_numeric(term_cleaned)\n",
    "    chunk['revol_util'] = pd.to_numeric(revol_cleaned)\n",
    "    chunk = chunk.dropna(how='all')\n",
    "    float_cols = chunk.select_dtypes(include=['float'])\n",
    "    for col in float_cols.columns:\n",
    "        missing_values = len(chunk) - chunk[col].count()\n",
    "        if col in mv_counts:\n",
    "            mv_counts[col] = mv_counts[col] + missing_values\n",
    "        else:\n",
    "            mv_counts[col] = missing_values\n",
    "mv_counts"
   ],
   "outputs": [
    {
     "output_type": "execute_result",
     "data": {
      "text/plain": [
       "{'member_id': 3,\n",
       " 'loan_amnt': 3,\n",
       " 'funded_amnt': 3,\n",
       " 'funded_amnt_inv': 3,\n",
       " 'installment': 3,\n",
       " 'annual_inc': 7,\n",
       " 'dti': 3,\n",
       " 'delinq_2yrs': 32,\n",
       " 'inq_last_6mths': 32,\n",
       " 'open_acc': 32,\n",
       " 'pub_rec': 32,\n",
       " 'revol_bal': 3,\n",
       " 'revol_util': 93,\n",
       " 'total_acc': 32,\n",
       " 'out_prncp': 3,\n",
       " 'out_prncp_inv': 3,\n",
       " 'total_pymnt': 3,\n",
       " 'total_pymnt_inv': 3,\n",
       " 'total_rec_prncp': 3,\n",
       " 'total_rec_int': 3,\n",
       " 'total_rec_late_fee': 3,\n",
       " 'recoveries': 3,\n",
       " 'collection_recovery_fee': 3,\n",
       " 'last_pymnt_amnt': 3,\n",
       " 'collections_12_mths_ex_med': 148,\n",
       " 'policy_code': 3,\n",
       " 'acc_now_delinq': 32,\n",
       " 'chargeoff_within_12_mths': 148,\n",
       " 'delinq_amnt': 32,\n",
       " 'pub_rec_bankruptcies': 1368,\n",
       " 'tax_liens': 108,\n",
       " 'term': 3}"
      ]
     },
     "metadata": {},
     "execution_count": 18
    }
   ],
   "metadata": {}
  },
  {
   "cell_type": "code",
   "execution_count": null,
   "source": [],
   "outputs": [],
   "metadata": {}
  }
 ],
 "metadata": {
  "orig_nbformat": 4,
  "language_info": {
   "name": "python",
   "version": "3.9.2",
   "mimetype": "text/x-python",
   "codemirror_mode": {
    "name": "ipython",
    "version": 3
   },
   "pygments_lexer": "ipython3",
   "nbconvert_exporter": "python",
   "file_extension": ".py"
  },
  "kernelspec": {
   "name": "python3",
   "display_name": "Python 3.9.2 64-bit"
  },
  "interpreter": {
   "hash": "aee8b7b246df8f9039afb4144a1f6fd8d2ca17a180786b69acc140d282b71a49"
  }
 },
 "nbformat": 4,
 "nbformat_minor": 2
}