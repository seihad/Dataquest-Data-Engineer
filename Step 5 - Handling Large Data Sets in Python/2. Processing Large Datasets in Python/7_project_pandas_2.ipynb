{
 "cells": [
  {
   "cell_type": "markdown",
   "source": [
    "# Analyzing Startup Funraising Deals from Crunchbase"
   ],
   "metadata": {}
  },
  {
   "cell_type": "markdown",
   "source": [
    "working with memory constraints."
   ],
   "metadata": {}
  },
  {
   "cell_type": "markdown",
   "source": [
    "## 1. Introduction"
   ],
   "metadata": {}
  },
  {
   "cell_type": "markdown",
   "source": [
    "reading the dataset into dataframe using 5000 chunk rows"
   ],
   "metadata": {}
  },
  {
   "cell_type": "code",
   "execution_count": 2,
   "source": [
    "import pandas as pd\n",
    "pd.options.display.max_columns = 99\n",
    "chunk_iter = pd.read_csv('crunchbase-investments.csv', chunksize=5000, encoding='ISO-8859-1')"
   ],
   "outputs": [],
   "metadata": {}
  },
  {
   "cell_type": "markdown",
   "source": [
    "Finding out each column's missing value counts"
   ],
   "metadata": {}
  },
  {
   "cell_type": "code",
   "execution_count": 3,
   "source": [
    "mv_list = []\n",
    "for chunk in chunk_iter:\n",
    "    mv_list.append(chunk.isnull().sum())\n",
    "    \n",
    "combined_mv_vc = pd.concat(mv_list)\n",
    "unique_combined_mv_vc = combined_mv_vc.groupby(combined_mv_vc.index).sum()\n",
    "unique_combined_mv_vc.sort_values()"
   ],
   "outputs": [
    {
     "output_type": "execute_result",
     "data": {
      "text/plain": [
       "company_country_code          1\n",
       "company_name                  1\n",
       "company_permalink             1\n",
       "company_region                1\n",
       "investor_region               2\n",
       "investor_permalink            2\n",
       "investor_name                 2\n",
       "funded_quarter                3\n",
       "funded_at                     3\n",
       "funded_month                  3\n",
       "funded_year                   3\n",
       "funding_round_type            3\n",
       "company_state_code          492\n",
       "company_city                533\n",
       "company_category_code       643\n",
       "raised_amount_usd          3599\n",
       "investor_country_code     12001\n",
       "investor_city             12480\n",
       "investor_state_code       16809\n",
       "investor_category_code    50427\n",
       "dtype: int64"
      ]
     },
     "metadata": {},
     "execution_count": 3
    }
   ],
   "metadata": {}
  },
  {
   "cell_type": "markdown",
   "source": [
    "memory footprint"
   ],
   "metadata": {}
  },
  {
   "cell_type": "code",
   "execution_count": 4,
   "source": [
    "\n",
    "chunk_iter = pd.read_csv('crunchbase-investments.csv', chunksize=5000, encoding='ISO-8859-1')\n",
    "counter = 0\n",
    "series_memory_fp = pd.Series(dtype='float64')\n",
    "for chunk in chunk_iter:\n",
    "    if counter == 0:\n",
    "        series_memory_fp = chunk.memory_usage(deep=True)\n",
    "    else:\n",
    "        series_memory_fp += chunk.memory_usage(deep=True)\n",
    "    counter += 1\n",
    "\n",
    "# Drop memory footprint calculation for the index.\n",
    "series_memory_fp = series_memory_fp.drop('Index')\n",
    "series_memory_fp"
   ],
   "outputs": [
    {
     "output_type": "execute_result",
     "data": {
      "text/plain": [
       "company_permalink         4057788\n",
       "company_name              3591326\n",
       "company_category_code     3421104\n",
       "company_country_code      3172176\n",
       "company_state_code        3106051\n",
       "company_region            3411545\n",
       "company_city              3505886\n",
       "investor_permalink        4980548\n",
       "investor_name             3915666\n",
       "investor_category_code     622424\n",
       "investor_country_code     2647292\n",
       "investor_state_code       2476607\n",
       "investor_region           3396281\n",
       "investor_city             2885083\n",
       "funding_round_type        3410707\n",
       "funded_at                 3542185\n",
       "funded_month              3383584\n",
       "funded_quarter            3383584\n",
       "funded_year                422960\n",
       "raised_amount_usd          422960\n",
       "dtype: int64"
      ]
     },
     "metadata": {},
     "execution_count": 4
    }
   ],
   "metadata": {}
  },
  {
   "cell_type": "markdown",
   "source": [
    "total memory footprint"
   ],
   "metadata": {}
  },
  {
   "cell_type": "code",
   "execution_count": 6,
   "source": [
    "series_memory_fp.sum() / (1024 * 1024)"
   ],
   "outputs": [
    {
     "output_type": "execute_result",
     "data": {
      "text/plain": [
       "56.98753070831299"
      ]
     },
     "metadata": {},
     "execution_count": 6
    }
   ],
   "metadata": {}
  },
  {
   "cell_type": "markdown",
   "source": [
    "columns to drop"
   ],
   "metadata": {}
  },
  {
   "cell_type": "code",
   "execution_count": 7,
   "source": [
    "drop_cols = ['investor_permalink', 'company_permalink', 'investor_category_code']\n",
    "keep_cols = chunk.columns.drop(drop_cols)"
   ],
   "outputs": [],
   "metadata": {}
  },
  {
   "cell_type": "markdown",
   "source": [
    "## 2. Selecting Data Types"
   ],
   "metadata": {}
  },
  {
   "cell_type": "markdown",
   "source": [
    "identifying types for each column"
   ],
   "metadata": {}
  },
  {
   "cell_type": "code",
   "execution_count": 9,
   "source": [
    "col_types = {}\n",
    "chunk_iter = pd.read_csv('crunchbase-investments.csv', chunksize=5000, encoding='ISO-8859-1', usecols=keep_cols)\n",
    "\n",
    "for chunk in chunk_iter:\n",
    "    for col in chunk.columns:\n",
    "        if col not in col_types:\n",
    "            col_types[col] = [str(chunk.dtypes[col])]\n",
    "        else:\n",
    "            col_types[col].append(str(chunk.dtypes[col]))"
   ],
   "outputs": [],
   "metadata": {}
  },
  {
   "cell_type": "code",
   "execution_count": 11,
   "source": [
    "uniq_col_types = {}\n",
    "for k,v in col_types.items():\n",
    "    uniq_col_types[k] = set(col_types[k])\n",
    "uniq_col_types"
   ],
   "outputs": [
    {
     "output_type": "execute_result",
     "data": {
      "text/plain": [
       "{'company_name': {'object'},\n",
       " 'company_category_code': {'object'},\n",
       " 'company_country_code': {'object'},\n",
       " 'company_state_code': {'object'},\n",
       " 'company_region': {'object'},\n",
       " 'company_city': {'object'},\n",
       " 'investor_name': {'object'},\n",
       " 'investor_country_code': {'float64', 'object'},\n",
       " 'investor_state_code': {'float64', 'object'},\n",
       " 'investor_region': {'object'},\n",
       " 'investor_city': {'float64', 'object'},\n",
       " 'funding_round_type': {'object'},\n",
       " 'funded_at': {'object'},\n",
       " 'funded_month': {'object'},\n",
       " 'funded_quarter': {'object'},\n",
       " 'funded_year': {'float64', 'int64'},\n",
       " 'raised_amount_usd': {'float64'}}"
      ]
     },
     "metadata": {},
     "execution_count": 11
    }
   ],
   "metadata": {}
  },
  {
   "cell_type": "markdown",
   "source": [
    "# 3.Loading Chunks Into SQLite"
   ],
   "metadata": {}
  },
  {
   "cell_type": "markdown",
   "source": [
    "create and connect to a new sqlite database"
   ],
   "metadata": {}
  },
  {
   "cell_type": "code",
   "execution_count": 12,
   "source": [
    "import sqlite3\n",
    "conn = sqlite3.connect('crunchbase.db')"
   ],
   "outputs": [],
   "metadata": {}
  },
  {
   "cell_type": "markdown",
   "source": [
    "export each chunk to a new table in the SQLite database"
   ],
   "metadata": {}
  },
  {
   "cell_type": "code",
   "execution_count": 13,
   "source": [
    "chunk_iter = pd.read_csv('crunchbase-investments.csv', chunksize=5000, encoding='ISO-8859-1')\n",
    "\n",
    "for chunk in chunk_iter:\n",
    "    chunk.to_sql(\"investments\", conn, if_exists='append', index=False)"
   ],
   "outputs": [],
   "metadata": {}
  },
  {
   "cell_type": "markdown",
   "source": [
    "query the table"
   ],
   "metadata": {}
  },
  {
   "cell_type": "code",
   "execution_count": 14,
   "source": [
    "cur = conn.cursor()\n",
    "query = (\"\"\"SELECT * FROM investments \"\"\")\n",
    "pd.read_sql(query, conn)"
   ],
   "outputs": [
    {
     "output_type": "execute_result",
     "data": {
      "text/html": [
       "<div>\n",
       "<style scoped>\n",
       "    .dataframe tbody tr th:only-of-type {\n",
       "        vertical-align: middle;\n",
       "    }\n",
       "\n",
       "    .dataframe tbody tr th {\n",
       "        vertical-align: top;\n",
       "    }\n",
       "\n",
       "    .dataframe thead th {\n",
       "        text-align: right;\n",
       "    }\n",
       "</style>\n",
       "<table border=\"1\" class=\"dataframe\">\n",
       "  <thead>\n",
       "    <tr style=\"text-align: right;\">\n",
       "      <th></th>\n",
       "      <th>company_permalink</th>\n",
       "      <th>company_name</th>\n",
       "      <th>company_category_code</th>\n",
       "      <th>company_country_code</th>\n",
       "      <th>company_state_code</th>\n",
       "      <th>company_region</th>\n",
       "      <th>company_city</th>\n",
       "      <th>investor_permalink</th>\n",
       "      <th>investor_name</th>\n",
       "      <th>investor_category_code</th>\n",
       "      <th>investor_country_code</th>\n",
       "      <th>investor_state_code</th>\n",
       "      <th>investor_region</th>\n",
       "      <th>investor_city</th>\n",
       "      <th>funding_round_type</th>\n",
       "      <th>funded_at</th>\n",
       "      <th>funded_month</th>\n",
       "      <th>funded_quarter</th>\n",
       "      <th>funded_year</th>\n",
       "      <th>raised_amount_usd</th>\n",
       "    </tr>\n",
       "  </thead>\n",
       "  <tbody>\n",
       "    <tr>\n",
       "      <th>0</th>\n",
       "      <td>/company/advercar</td>\n",
       "      <td>AdverCar</td>\n",
       "      <td>advertising</td>\n",
       "      <td>USA</td>\n",
       "      <td>CA</td>\n",
       "      <td>SF Bay</td>\n",
       "      <td>San Francisco</td>\n",
       "      <td>/company/1-800-flowers-com</td>\n",
       "      <td>1-800-FLOWERS.COM</td>\n",
       "      <td>None</td>\n",
       "      <td>USA</td>\n",
       "      <td>NY</td>\n",
       "      <td>New York</td>\n",
       "      <td>New York</td>\n",
       "      <td>series-a</td>\n",
       "      <td>2012-10-30</td>\n",
       "      <td>2012-10</td>\n",
       "      <td>2012-Q4</td>\n",
       "      <td>2012.0</td>\n",
       "      <td>2000000.0</td>\n",
       "    </tr>\n",
       "    <tr>\n",
       "      <th>1</th>\n",
       "      <td>/company/launchgram</td>\n",
       "      <td>LaunchGram</td>\n",
       "      <td>news</td>\n",
       "      <td>USA</td>\n",
       "      <td>CA</td>\n",
       "      <td>SF Bay</td>\n",
       "      <td>Mountain View</td>\n",
       "      <td>/company/10xelerator</td>\n",
       "      <td>10Xelerator</td>\n",
       "      <td>finance</td>\n",
       "      <td>USA</td>\n",
       "      <td>OH</td>\n",
       "      <td>Columbus</td>\n",
       "      <td>Columbus</td>\n",
       "      <td>other</td>\n",
       "      <td>2012-01-23</td>\n",
       "      <td>2012-01</td>\n",
       "      <td>2012-Q1</td>\n",
       "      <td>2012.0</td>\n",
       "      <td>20000.0</td>\n",
       "    </tr>\n",
       "    <tr>\n",
       "      <th>2</th>\n",
       "      <td>/company/utap</td>\n",
       "      <td>uTaP</td>\n",
       "      <td>messaging</td>\n",
       "      <td>USA</td>\n",
       "      <td>None</td>\n",
       "      <td>United States - Other</td>\n",
       "      <td>None</td>\n",
       "      <td>/company/10xelerator</td>\n",
       "      <td>10Xelerator</td>\n",
       "      <td>finance</td>\n",
       "      <td>USA</td>\n",
       "      <td>OH</td>\n",
       "      <td>Columbus</td>\n",
       "      <td>Columbus</td>\n",
       "      <td>other</td>\n",
       "      <td>2012-01-01</td>\n",
       "      <td>2012-01</td>\n",
       "      <td>2012-Q1</td>\n",
       "      <td>2012.0</td>\n",
       "      <td>20000.0</td>\n",
       "    </tr>\n",
       "    <tr>\n",
       "      <th>3</th>\n",
       "      <td>/company/zoopshop</td>\n",
       "      <td>ZoopShop</td>\n",
       "      <td>software</td>\n",
       "      <td>USA</td>\n",
       "      <td>OH</td>\n",
       "      <td>Columbus</td>\n",
       "      <td>columbus</td>\n",
       "      <td>/company/10xelerator</td>\n",
       "      <td>10Xelerator</td>\n",
       "      <td>finance</td>\n",
       "      <td>USA</td>\n",
       "      <td>OH</td>\n",
       "      <td>Columbus</td>\n",
       "      <td>Columbus</td>\n",
       "      <td>angel</td>\n",
       "      <td>2012-02-15</td>\n",
       "      <td>2012-02</td>\n",
       "      <td>2012-Q1</td>\n",
       "      <td>2012.0</td>\n",
       "      <td>20000.0</td>\n",
       "    </tr>\n",
       "    <tr>\n",
       "      <th>4</th>\n",
       "      <td>/company/efuneral</td>\n",
       "      <td>eFuneral</td>\n",
       "      <td>web</td>\n",
       "      <td>USA</td>\n",
       "      <td>OH</td>\n",
       "      <td>Cleveland</td>\n",
       "      <td>Cleveland</td>\n",
       "      <td>/company/10xelerator</td>\n",
       "      <td>10Xelerator</td>\n",
       "      <td>finance</td>\n",
       "      <td>USA</td>\n",
       "      <td>OH</td>\n",
       "      <td>Columbus</td>\n",
       "      <td>Columbus</td>\n",
       "      <td>other</td>\n",
       "      <td>2011-09-08</td>\n",
       "      <td>2011-09</td>\n",
       "      <td>2011-Q3</td>\n",
       "      <td>2011.0</td>\n",
       "      <td>20000.0</td>\n",
       "    </tr>\n",
       "    <tr>\n",
       "      <th>...</th>\n",
       "      <td>...</td>\n",
       "      <td>...</td>\n",
       "      <td>...</td>\n",
       "      <td>...</td>\n",
       "      <td>...</td>\n",
       "      <td>...</td>\n",
       "      <td>...</td>\n",
       "      <td>...</td>\n",
       "      <td>...</td>\n",
       "      <td>...</td>\n",
       "      <td>...</td>\n",
       "      <td>...</td>\n",
       "      <td>...</td>\n",
       "      <td>...</td>\n",
       "      <td>...</td>\n",
       "      <td>...</td>\n",
       "      <td>...</td>\n",
       "      <td>...</td>\n",
       "      <td>...</td>\n",
       "      <td>...</td>\n",
       "    </tr>\n",
       "    <tr>\n",
       "      <th>52865</th>\n",
       "      <td>/company/garantia-data</td>\n",
       "      <td>Garantia Data</td>\n",
       "      <td>enterprise</td>\n",
       "      <td>USA</td>\n",
       "      <td>CA</td>\n",
       "      <td>SF Bay</td>\n",
       "      <td>Santa Clara</td>\n",
       "      <td>/person/zohar-gilon</td>\n",
       "      <td>Zohar Gilon</td>\n",
       "      <td>None</td>\n",
       "      <td>None</td>\n",
       "      <td>None</td>\n",
       "      <td>unknown</td>\n",
       "      <td>None</td>\n",
       "      <td>series-a</td>\n",
       "      <td>2012-08-08</td>\n",
       "      <td>2012-08</td>\n",
       "      <td>2012-Q3</td>\n",
       "      <td>2012.0</td>\n",
       "      <td>3800000.0</td>\n",
       "    </tr>\n",
       "    <tr>\n",
       "      <th>52866</th>\n",
       "      <td>/company/duda-mobile</td>\n",
       "      <td>DudaMobile</td>\n",
       "      <td>mobile</td>\n",
       "      <td>USA</td>\n",
       "      <td>CA</td>\n",
       "      <td>SF Bay</td>\n",
       "      <td>Palo Alto</td>\n",
       "      <td>/person/zohar-gilon</td>\n",
       "      <td>Zohar Gilon</td>\n",
       "      <td>None</td>\n",
       "      <td>None</td>\n",
       "      <td>None</td>\n",
       "      <td>unknown</td>\n",
       "      <td>None</td>\n",
       "      <td>series-c+</td>\n",
       "      <td>2013-04-08</td>\n",
       "      <td>2013-04</td>\n",
       "      <td>2013-Q2</td>\n",
       "      <td>2013.0</td>\n",
       "      <td>10300000.0</td>\n",
       "    </tr>\n",
       "    <tr>\n",
       "      <th>52867</th>\n",
       "      <td>/company/sitebrains</td>\n",
       "      <td>SiteBrains</td>\n",
       "      <td>software</td>\n",
       "      <td>USA</td>\n",
       "      <td>CA</td>\n",
       "      <td>SF Bay</td>\n",
       "      <td>San Francisco</td>\n",
       "      <td>/person/zohar-israel</td>\n",
       "      <td>zohar israel</td>\n",
       "      <td>None</td>\n",
       "      <td>None</td>\n",
       "      <td>None</td>\n",
       "      <td>unknown</td>\n",
       "      <td>None</td>\n",
       "      <td>angel</td>\n",
       "      <td>2010-08-01</td>\n",
       "      <td>2010-08</td>\n",
       "      <td>2010-Q3</td>\n",
       "      <td>2010.0</td>\n",
       "      <td>350000.0</td>\n",
       "    </tr>\n",
       "    <tr>\n",
       "      <th>52868</th>\n",
       "      <td>/company/comprehend-systems</td>\n",
       "      <td>Comprehend Systems</td>\n",
       "      <td>enterprise</td>\n",
       "      <td>USA</td>\n",
       "      <td>CA</td>\n",
       "      <td>SF Bay</td>\n",
       "      <td>Palo Alto</td>\n",
       "      <td>/person/zorba-lieberman</td>\n",
       "      <td>Zorba Lieberman</td>\n",
       "      <td>None</td>\n",
       "      <td>None</td>\n",
       "      <td>None</td>\n",
       "      <td>unknown</td>\n",
       "      <td>None</td>\n",
       "      <td>series-a</td>\n",
       "      <td>2013-07-11</td>\n",
       "      <td>2013-07</td>\n",
       "      <td>2013-Q3</td>\n",
       "      <td>2013.0</td>\n",
       "      <td>8400000.0</td>\n",
       "    </tr>\n",
       "    <tr>\n",
       "      <th>52869</th>\n",
       "      <td>/company/smartthings</td>\n",
       "      <td>SmartThings</td>\n",
       "      <td>mobile</td>\n",
       "      <td>USA</td>\n",
       "      <td>DC</td>\n",
       "      <td>unknown</td>\n",
       "      <td>Minneapolis</td>\n",
       "      <td>/person/zorik-gordon</td>\n",
       "      <td>Zorik Gordon</td>\n",
       "      <td>None</td>\n",
       "      <td>None</td>\n",
       "      <td>None</td>\n",
       "      <td>unknown</td>\n",
       "      <td>None</td>\n",
       "      <td>series-a</td>\n",
       "      <td>2012-12-04</td>\n",
       "      <td>2012-12</td>\n",
       "      <td>2012-Q4</td>\n",
       "      <td>2012.0</td>\n",
       "      <td>3000000.0</td>\n",
       "    </tr>\n",
       "  </tbody>\n",
       "</table>\n",
       "<p>52870 rows × 20 columns</p>\n",
       "</div>"
      ],
      "text/plain": [
       "                 company_permalink        company_name company_category_code  \\\n",
       "0                /company/advercar            AdverCar           advertising   \n",
       "1              /company/launchgram          LaunchGram                  news   \n",
       "2                    /company/utap                uTaP             messaging   \n",
       "3                /company/zoopshop            ZoopShop              software   \n",
       "4                /company/efuneral            eFuneral                   web   \n",
       "...                            ...                 ...                   ...   \n",
       "52865       /company/garantia-data       Garantia Data            enterprise   \n",
       "52866         /company/duda-mobile          DudaMobile                mobile   \n",
       "52867          /company/sitebrains          SiteBrains              software   \n",
       "52868  /company/comprehend-systems  Comprehend Systems            enterprise   \n",
       "52869         /company/smartthings         SmartThings                mobile   \n",
       "\n",
       "      company_country_code company_state_code         company_region  \\\n",
       "0                      USA                 CA                 SF Bay   \n",
       "1                      USA                 CA                 SF Bay   \n",
       "2                      USA               None  United States - Other   \n",
       "3                      USA                 OH               Columbus   \n",
       "4                      USA                 OH              Cleveland   \n",
       "...                    ...                ...                    ...   \n",
       "52865                  USA                 CA                 SF Bay   \n",
       "52866                  USA                 CA                 SF Bay   \n",
       "52867                  USA                 CA                 SF Bay   \n",
       "52868                  USA                 CA                 SF Bay   \n",
       "52869                  USA                 DC                unknown   \n",
       "\n",
       "        company_city          investor_permalink      investor_name  \\\n",
       "0      San Francisco  /company/1-800-flowers-com  1-800-FLOWERS.COM   \n",
       "1      Mountain View        /company/10xelerator        10Xelerator   \n",
       "2               None        /company/10xelerator        10Xelerator   \n",
       "3           columbus        /company/10xelerator        10Xelerator   \n",
       "4          Cleveland        /company/10xelerator        10Xelerator   \n",
       "...              ...                         ...                ...   \n",
       "52865    Santa Clara         /person/zohar-gilon        Zohar Gilon   \n",
       "52866      Palo Alto         /person/zohar-gilon        Zohar Gilon   \n",
       "52867  San Francisco        /person/zohar-israel       zohar israel   \n",
       "52868      Palo Alto     /person/zorba-lieberman    Zorba Lieberman   \n",
       "52869    Minneapolis        /person/zorik-gordon       Zorik Gordon   \n",
       "\n",
       "      investor_category_code investor_country_code investor_state_code  \\\n",
       "0                       None                   USA                  NY   \n",
       "1                    finance                   USA                  OH   \n",
       "2                    finance                   USA                  OH   \n",
       "3                    finance                   USA                  OH   \n",
       "4                    finance                   USA                  OH   \n",
       "...                      ...                   ...                 ...   \n",
       "52865                   None                  None                None   \n",
       "52866                   None                  None                None   \n",
       "52867                   None                  None                None   \n",
       "52868                   None                  None                None   \n",
       "52869                   None                  None                None   \n",
       "\n",
       "      investor_region investor_city funding_round_type   funded_at  \\\n",
       "0            New York      New York           series-a  2012-10-30   \n",
       "1            Columbus      Columbus              other  2012-01-23   \n",
       "2            Columbus      Columbus              other  2012-01-01   \n",
       "3            Columbus      Columbus              angel  2012-02-15   \n",
       "4            Columbus      Columbus              other  2011-09-08   \n",
       "...               ...           ...                ...         ...   \n",
       "52865         unknown          None           series-a  2012-08-08   \n",
       "52866         unknown          None          series-c+  2013-04-08   \n",
       "52867         unknown          None              angel  2010-08-01   \n",
       "52868         unknown          None           series-a  2013-07-11   \n",
       "52869         unknown          None           series-a  2012-12-04   \n",
       "\n",
       "      funded_month funded_quarter  funded_year  raised_amount_usd  \n",
       "0          2012-10        2012-Q4       2012.0          2000000.0  \n",
       "1          2012-01        2012-Q1       2012.0            20000.0  \n",
       "2          2012-01        2012-Q1       2012.0            20000.0  \n",
       "3          2012-02        2012-Q1       2012.0            20000.0  \n",
       "4          2011-09        2011-Q3       2011.0            20000.0  \n",
       "...            ...            ...          ...                ...  \n",
       "52865      2012-08        2012-Q3       2012.0          3800000.0  \n",
       "52866      2013-04        2013-Q2       2013.0         10300000.0  \n",
       "52867      2010-08        2010-Q3       2010.0           350000.0  \n",
       "52868      2013-07        2013-Q3       2013.0          8400000.0  \n",
       "52869      2012-12        2012-Q4       2012.0          3000000.0  \n",
       "\n",
       "[52870 rows x 20 columns]"
      ]
     },
     "metadata": {},
     "execution_count": 14
    }
   ],
   "metadata": {}
  }
 ],
 "metadata": {
  "orig_nbformat": 4,
  "language_info": {
   "name": "python",
   "version": "3.9.2",
   "mimetype": "text/x-python",
   "codemirror_mode": {
    "name": "ipython",
    "version": 3
   },
   "pygments_lexer": "ipython3",
   "nbconvert_exporter": "python",
   "file_extension": ".py"
  },
  "kernelspec": {
   "name": "python3",
   "display_name": "Python 3.9.2 64-bit"
  },
  "interpreter": {
   "hash": "aee8b7b246df8f9039afb4144a1f6fd8d2ca17a180786b69acc140d282b71a49"
  }
 },
 "nbformat": 4,
 "nbformat_minor": 2
}